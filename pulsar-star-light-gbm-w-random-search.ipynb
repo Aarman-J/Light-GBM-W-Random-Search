{
 "cells": [
  {
   "cell_type": "markdown",
   "id": "629ca3a6",
   "metadata": {
    "papermill": {
     "duration": 0.008577,
     "end_time": "2023-06-08T14:19:30.267458",
     "exception": false,
     "start_time": "2023-06-08T14:19:30.258881",
     "status": "completed"
    },
    "tags": []
   },
   "source": [
    "# Pulsar Star: Light GBM W Random Search "
   ]
  },
  {
   "cell_type": "markdown",
   "id": "c4a03dbc",
   "metadata": {
    "papermill": {
     "duration": 0.007816,
     "end_time": "2023-06-08T14:19:30.283607",
     "exception": false,
     "start_time": "2023-06-08T14:19:30.275791",
     "status": "completed"
    },
    "tags": []
   },
   "source": [
    "## Imports "
   ]
  },
  {
   "cell_type": "code",
   "execution_count": 1,
   "id": "f06f62cf",
   "metadata": {
    "execution": {
     "iopub.execute_input": "2023-06-08T14:19:30.301667Z",
     "iopub.status.busy": "2023-06-08T14:19:30.301262Z",
     "iopub.status.idle": "2023-06-08T14:19:30.312588Z",
     "shell.execute_reply": "2023-06-08T14:19:30.311552Z"
    },
    "papermill": {
     "duration": 0.023151,
     "end_time": "2023-06-08T14:19:30.314875",
     "exception": false,
     "start_time": "2023-06-08T14:19:30.291724",
     "status": "completed"
    },
    "tags": []
   },
   "outputs": [],
   "source": [
    "import pandas as pd\n",
    "import numpy as np\n",
    "import matplotlib.pyplot as plt\n"
   ]
  },
  {
   "cell_type": "markdown",
   "id": "e47c57a7",
   "metadata": {
    "papermill": {
     "duration": 0.007745,
     "end_time": "2023-06-08T14:19:30.330935",
     "exception": false,
     "start_time": "2023-06-08T14:19:30.323190",
     "status": "completed"
    },
    "tags": []
   },
   "source": [
    "## Exploring the Data "
   ]
  },
  {
   "cell_type": "code",
   "execution_count": 2,
   "id": "fd4a0dc9",
   "metadata": {
    "execution": {
     "iopub.execute_input": "2023-06-08T14:19:30.350073Z",
     "iopub.status.busy": "2023-06-08T14:19:30.349705Z",
     "iopub.status.idle": "2023-06-08T14:19:30.964158Z",
     "shell.execute_reply": "2023-06-08T14:19:30.963091Z"
    },
    "papermill": {
     "duration": 0.628055,
     "end_time": "2023-06-08T14:19:30.966951",
     "exception": false,
     "start_time": "2023-06-08T14:19:30.338896",
     "status": "completed"
    },
    "tags": []
   },
   "outputs": [
    {
     "data": {
      "text/html": [
       "<div>\n",
       "<style scoped>\n",
       "    .dataframe tbody tr th:only-of-type {\n",
       "        vertical-align: middle;\n",
       "    }\n",
       "\n",
       "    .dataframe tbody tr th {\n",
       "        vertical-align: top;\n",
       "    }\n",
       "\n",
       "    .dataframe thead th {\n",
       "        text-align: right;\n",
       "    }\n",
       "</style>\n",
       "<table border=\"1\" class=\"dataframe\">\n",
       "  <thead>\n",
       "    <tr style=\"text-align: right;\">\n",
       "      <th></th>\n",
       "      <th>id</th>\n",
       "      <th>Mean_Integrated</th>\n",
       "      <th>SD</th>\n",
       "      <th>EK</th>\n",
       "      <th>Skewness</th>\n",
       "      <th>Mean_DMSNR_Curve</th>\n",
       "      <th>SD_DMSNR_Curve</th>\n",
       "      <th>EK_DMSNR_Curve</th>\n",
       "      <th>Skewness_DMSNR_Curve</th>\n",
       "      <th>Class</th>\n",
       "    </tr>\n",
       "  </thead>\n",
       "  <tbody>\n",
       "    <tr>\n",
       "      <th>0</th>\n",
       "      <td>0</td>\n",
       "      <td>133.171875</td>\n",
       "      <td>59.716081</td>\n",
       "      <td>0.043133</td>\n",
       "      <td>-0.703383</td>\n",
       "      <td>54.917224</td>\n",
       "      <td>70.084438</td>\n",
       "      <td>0.749798</td>\n",
       "      <td>-0.649512</td>\n",
       "      <td>0</td>\n",
       "    </tr>\n",
       "    <tr>\n",
       "      <th>1</th>\n",
       "      <td>1</td>\n",
       "      <td>87.093750</td>\n",
       "      <td>36.257973</td>\n",
       "      <td>0.435469</td>\n",
       "      <td>2.266057</td>\n",
       "      <td>3.417224</td>\n",
       "      <td>21.865069</td>\n",
       "      <td>7.039330</td>\n",
       "      <td>52.686251</td>\n",
       "      <td>0</td>\n",
       "    </tr>\n",
       "    <tr>\n",
       "      <th>2</th>\n",
       "      <td>2</td>\n",
       "      <td>112.640625</td>\n",
       "      <td>39.818393</td>\n",
       "      <td>0.379639</td>\n",
       "      <td>0.922306</td>\n",
       "      <td>2.730769</td>\n",
       "      <td>15.689690</td>\n",
       "      <td>8.193471</td>\n",
       "      <td>85.649785</td>\n",
       "      <td>0</td>\n",
       "    </tr>\n",
       "    <tr>\n",
       "      <th>3</th>\n",
       "      <td>3</td>\n",
       "      <td>120.679688</td>\n",
       "      <td>45.918448</td>\n",
       "      <td>-0.098490</td>\n",
       "      <td>0.011775</td>\n",
       "      <td>2.696488</td>\n",
       "      <td>20.954662</td>\n",
       "      <td>8.183874</td>\n",
       "      <td>70.332899</td>\n",
       "      <td>0</td>\n",
       "    </tr>\n",
       "    <tr>\n",
       "      <th>4</th>\n",
       "      <td>4</td>\n",
       "      <td>134.070312</td>\n",
       "      <td>57.720107</td>\n",
       "      <td>-0.107772</td>\n",
       "      <td>-0.573335</td>\n",
       "      <td>1.107860</td>\n",
       "      <td>11.255051</td>\n",
       "      <td>16.107748</td>\n",
       "      <td>308.753765</td>\n",
       "      <td>0</td>\n",
       "    </tr>\n",
       "  </tbody>\n",
       "</table>\n",
       "</div>"
      ],
      "text/plain": [
       "   id  Mean_Integrated         SD        EK  Skewness  Mean_DMSNR_Curve  \\\n",
       "0   0       133.171875  59.716081  0.043133 -0.703383         54.917224   \n",
       "1   1        87.093750  36.257973  0.435469  2.266057          3.417224   \n",
       "2   2       112.640625  39.818393  0.379639  0.922306          2.730769   \n",
       "3   3       120.679688  45.918448 -0.098490  0.011775          2.696488   \n",
       "4   4       134.070312  57.720107 -0.107772 -0.573335          1.107860   \n",
       "\n",
       "   SD_DMSNR_Curve  EK_DMSNR_Curve  Skewness_DMSNR_Curve  Class  \n",
       "0       70.084438        0.749798             -0.649512      0  \n",
       "1       21.865069        7.039330             52.686251      0  \n",
       "2       15.689690        8.193471             85.649785      0  \n",
       "3       20.954662        8.183874             70.332899      0  \n",
       "4       11.255051       16.107748            308.753765      0  "
      ]
     },
     "execution_count": 2,
     "metadata": {},
     "output_type": "execute_result"
    }
   ],
   "source": [
    "train_df = pd.read_csv('/kaggle/input/playground-series-s3e10/train.csv')\n",
    "test_df = pd.read_csv('/kaggle/input/playground-series-s3e10/test.csv')\n",
    "train_df.head()"
   ]
  },
  {
   "cell_type": "code",
   "execution_count": 3,
   "id": "56548073",
   "metadata": {
    "execution": {
     "iopub.execute_input": "2023-06-08T14:19:30.986500Z",
     "iopub.status.busy": "2023-06-08T14:19:30.985466Z",
     "iopub.status.idle": "2023-06-08T14:19:31.004916Z",
     "shell.execute_reply": "2023-06-08T14:19:31.003776Z"
    },
    "papermill": {
     "duration": 0.031991,
     "end_time": "2023-06-08T14:19:31.007561",
     "exception": false,
     "start_time": "2023-06-08T14:19:30.975570",
     "status": "completed"
    },
    "tags": []
   },
   "outputs": [],
   "source": [
    "train_df.isna().sum()\n",
    "train_df = train_df.drop('id', axis = 1)\n"
   ]
  },
  {
   "cell_type": "markdown",
   "id": "07de3ab4",
   "metadata": {
    "papermill": {
     "duration": 0.008148,
     "end_time": "2023-06-08T14:19:31.024316",
     "exception": false,
     "start_time": "2023-06-08T14:19:31.016168",
     "status": "completed"
    },
    "tags": []
   },
   "source": [
    "## Checking for Class Imbalance\n",
    "We can see that this dataset is very class imbalanced. When evaluating our model, we cannot use accuracy as it does not work well with class imbalanced models. Most of the times, when doing competitions on Kaggle, the loss function that Kaggle uses to evaluate our model is listed. When checking this, we can see that they use log loss"
   ]
  },
  {
   "cell_type": "code",
   "execution_count": 4,
   "id": "1c6ce29c",
   "metadata": {
    "execution": {
     "iopub.execute_input": "2023-06-08T14:19:31.042870Z",
     "iopub.status.busy": "2023-06-08T14:19:31.042463Z",
     "iopub.status.idle": "2023-06-08T14:19:31.346991Z",
     "shell.execute_reply": "2023-06-08T14:19:31.345872Z"
    },
    "papermill": {
     "duration": 0.316518,
     "end_time": "2023-06-08T14:19:31.349394",
     "exception": false,
     "start_time": "2023-06-08T14:19:31.032876",
     "status": "completed"
    },
    "tags": []
   },
   "outputs": [
    {
     "data": {
      "image/png": "[encoded data removed]",
      "text/plain": [
       "<Figure size 640x480 with 1 Axes>"
      ]
     },
     "metadata": {},
     "output_type": "display_data"
    }
   ],
   "source": [
    "import matplotlib.pyplot as plt\n",
    "import numpy as np\n",
    "\n",
    "# Create a histogram for each class\n",
    "for label in np.unique(train_df['Class']):\n",
    "    plt.hist(train_df['Class'], bins=3, alpha=0.5, label='Class {}'.format(label))\n",
    "\n",
    "# Add a legend and show the plot\n",
    "plt.legend()\n",
    "plt.show()"
   ]
  },
  {
   "cell_type": "markdown",
   "id": "67504b18",
   "metadata": {
    "papermill": {
     "duration": 0.008476,
     "end_time": "2023-06-08T14:19:31.366657",
     "exception": false,
     "start_time": "2023-06-08T14:19:31.358181",
     "status": "completed"
    },
    "tags": []
   },
   "source": [
    "## Preprocessing "
   ]
  },
  {
   "cell_type": "code",
   "execution_count": 5,
   "id": "47ea4042",
   "metadata": {
    "execution": {
     "iopub.execute_input": "2023-06-08T14:19:31.385867Z",
     "iopub.status.busy": "2023-06-08T14:19:31.385496Z",
     "iopub.status.idle": "2023-06-08T14:19:32.784226Z",
     "shell.execute_reply": "2023-06-08T14:19:32.782993Z"
    },
    "papermill": {
     "duration": 1.411951,
     "end_time": "2023-06-08T14:19:32.787226",
     "exception": false,
     "start_time": "2023-06-08T14:19:31.375275",
     "status": "completed"
    },
    "tags": []
   },
   "outputs": [],
   "source": [
    "from sklearn.model_selection import train_test_split\n",
    "from sklearn.preprocessing import StandardScaler"
   ]
  },
  {
   "cell_type": "code",
   "execution_count": 6,
   "id": "5f671fee",
   "metadata": {
    "execution": {
     "iopub.execute_input": "2023-06-08T14:19:32.806896Z",
     "iopub.status.busy": "2023-06-08T14:19:32.806437Z",
     "iopub.status.idle": "2023-06-08T14:19:32.834196Z",
     "shell.execute_reply": "2023-06-08T14:19:32.833296Z"
    },
    "papermill": {
     "duration": 0.040543,
     "end_time": "2023-06-08T14:19:32.836643",
     "exception": false,
     "start_time": "2023-06-08T14:19:32.796100",
     "status": "completed"
    },
    "tags": []
   },
   "outputs": [
    {
     "data": {
      "text/html": [
       "<div>\n",
       "<style scoped>\n",
       "    .dataframe tbody tr th:only-of-type {\n",
       "        vertical-align: middle;\n",
       "    }\n",
       "\n",
       "    .dataframe tbody tr th {\n",
       "        vertical-align: top;\n",
       "    }\n",
       "\n",
       "    .dataframe thead th {\n",
       "        text-align: right;\n",
       "    }\n",
       "</style>\n",
       "<table border=\"1\" class=\"dataframe\">\n",
       "  <thead>\n",
       "    <tr style=\"text-align: right;\">\n",
       "      <th></th>\n",
       "      <th>Mean_Integrated</th>\n",
       "      <th>SD</th>\n",
       "      <th>EK</th>\n",
       "      <th>Skewness</th>\n",
       "      <th>Mean_DMSNR_Curve</th>\n",
       "      <th>SD_DMSNR_Curve</th>\n",
       "      <th>EK_DMSNR_Curve</th>\n",
       "      <th>Skewness_DMSNR_Curve</th>\n",
       "    </tr>\n",
       "  </thead>\n",
       "  <tbody>\n",
       "    <tr>\n",
       "      <th>0</th>\n",
       "      <td>133.171875</td>\n",
       "      <td>59.716081</td>\n",
       "      <td>0.043133</td>\n",
       "      <td>-0.703383</td>\n",
       "      <td>54.917224</td>\n",
       "      <td>70.084438</td>\n",
       "      <td>0.749798</td>\n",
       "      <td>-0.649512</td>\n",
       "    </tr>\n",
       "    <tr>\n",
       "      <th>1</th>\n",
       "      <td>87.093750</td>\n",
       "      <td>36.257973</td>\n",
       "      <td>0.435469</td>\n",
       "      <td>2.266057</td>\n",
       "      <td>3.417224</td>\n",
       "      <td>21.865069</td>\n",
       "      <td>7.039330</td>\n",
       "      <td>52.686251</td>\n",
       "    </tr>\n",
       "    <tr>\n",
       "      <th>2</th>\n",
       "      <td>112.640625</td>\n",
       "      <td>39.818393</td>\n",
       "      <td>0.379639</td>\n",
       "      <td>0.922306</td>\n",
       "      <td>2.730769</td>\n",
       "      <td>15.689690</td>\n",
       "      <td>8.193471</td>\n",
       "      <td>85.649785</td>\n",
       "    </tr>\n",
       "    <tr>\n",
       "      <th>3</th>\n",
       "      <td>120.679688</td>\n",
       "      <td>45.918448</td>\n",
       "      <td>-0.098490</td>\n",
       "      <td>0.011775</td>\n",
       "      <td>2.696488</td>\n",
       "      <td>20.954662</td>\n",
       "      <td>8.183874</td>\n",
       "      <td>70.332899</td>\n",
       "    </tr>\n",
       "    <tr>\n",
       "      <th>4</th>\n",
       "      <td>134.070312</td>\n",
       "      <td>57.720107</td>\n",
       "      <td>-0.107772</td>\n",
       "      <td>-0.573335</td>\n",
       "      <td>1.107860</td>\n",
       "      <td>11.255051</td>\n",
       "      <td>16.107748</td>\n",
       "      <td>308.753765</td>\n",
       "    </tr>\n",
       "    <tr>\n",
       "      <th>...</th>\n",
       "      <td>...</td>\n",
       "      <td>...</td>\n",
       "      <td>...</td>\n",
       "      <td>...</td>\n",
       "      <td>...</td>\n",
       "      <td>...</td>\n",
       "      <td>...</td>\n",
       "      <td>...</td>\n",
       "    </tr>\n",
       "    <tr>\n",
       "      <th>117559</th>\n",
       "      <td>132.843750</td>\n",
       "      <td>56.748838</td>\n",
       "      <td>-0.060070</td>\n",
       "      <td>-0.554084</td>\n",
       "      <td>4.054348</td>\n",
       "      <td>27.844144</td>\n",
       "      <td>6.564423</td>\n",
       "      <td>44.442664</td>\n",
       "    </tr>\n",
       "    <tr>\n",
       "      <th>117560</th>\n",
       "      <td>112.578125</td>\n",
       "      <td>52.539271</td>\n",
       "      <td>0.179580</td>\n",
       "      <td>-0.306961</td>\n",
       "      <td>1.637960</td>\n",
       "      <td>15.331913</td>\n",
       "      <td>11.384718</td>\n",
       "      <td>142.535470</td>\n",
       "    </tr>\n",
       "    <tr>\n",
       "      <th>117561</th>\n",
       "      <td>119.757812</td>\n",
       "      <td>49.980013</td>\n",
       "      <td>0.064402</td>\n",
       "      <td>-0.270822</td>\n",
       "      <td>3.877926</td>\n",
       "      <td>19.788559</td>\n",
       "      <td>6.959740</td>\n",
       "      <td>56.367789</td>\n",
       "    </tr>\n",
       "    <tr>\n",
       "      <th>117562</th>\n",
       "      <td>105.789062</td>\n",
       "      <td>46.986595</td>\n",
       "      <td>0.441426</td>\n",
       "      <td>0.372466</td>\n",
       "      <td>2.097826</td>\n",
       "      <td>17.170612</td>\n",
       "      <td>9.442445</td>\n",
       "      <td>99.074539</td>\n",
       "    </tr>\n",
       "    <tr>\n",
       "      <th>117563</th>\n",
       "      <td>113.515625</td>\n",
       "      <td>50.935956</td>\n",
       "      <td>0.031517</td>\n",
       "      <td>-0.443831</td>\n",
       "      <td>23.290970</td>\n",
       "      <td>62.006842</td>\n",
       "      <td>2.386364</td>\n",
       "      <td>4.001859</td>\n",
       "    </tr>\n",
       "  </tbody>\n",
       "</table>\n",
       "<p>117564 rows × 8 columns</p>\n",
       "</div>"
      ],
      "text/plain": [
       "        Mean_Integrated         SD        EK  Skewness  Mean_DMSNR_Curve  \\\n",
       "0            133.171875  59.716081  0.043133 -0.703383         54.917224   \n",
       "1             87.093750  36.257973  0.435469  2.266057          3.417224   \n",
       "2            112.640625  39.818393  0.379639  0.922306          2.730769   \n",
       "3            120.679688  45.918448 -0.098490  0.011775          2.696488   \n",
       "4            134.070312  57.720107 -0.107772 -0.573335          1.107860   \n",
       "...                 ...        ...       ...       ...               ...   \n",
       "117559       132.843750  56.748838 -0.060070 -0.554084          4.054348   \n",
       "117560       112.578125  52.539271  0.179580 -0.306961          1.637960   \n",
       "117561       119.757812  49.980013  0.064402 -0.270822          3.877926   \n",
       "117562       105.789062  46.986595  0.441426  0.372466          2.097826   \n",
       "117563       113.515625  50.935956  0.031517 -0.443831         23.290970   \n",
       "\n",
       "        SD_DMSNR_Curve  EK_DMSNR_Curve  Skewness_DMSNR_Curve  \n",
       "0            70.084438        0.749798             -0.649512  \n",
       "1            21.865069        7.039330             52.686251  \n",
       "2            15.689690        8.193471             85.649785  \n",
       "3            20.954662        8.183874             70.332899  \n",
       "4            11.255051       16.107748            308.753765  \n",
       "...                ...             ...                   ...  \n",
       "117559       27.844144        6.564423             44.442664  \n",
       "117560       15.331913       11.384718            142.535470  \n",
       "117561       19.788559        6.959740             56.367789  \n",
       "117562       17.170612        9.442445             99.074539  \n",
       "117563       62.006842        2.386364              4.001859  \n",
       "\n",
       "[117564 rows x 8 columns]"
      ]
     },
     "execution_count": 6,
     "metadata": {},
     "output_type": "execute_result"
    }
   ],
   "source": [
    "X = train_df.drop('Class', axis = 1)\n",
    "y = train_df['Class']\n",
    "X"
   ]
  },
  {
   "cell_type": "code",
   "execution_count": 7,
   "id": "a9456e99",
   "metadata": {
    "execution": {
     "iopub.execute_input": "2023-06-08T14:19:32.857455Z",
     "iopub.status.busy": "2023-06-08T14:19:32.856823Z",
     "iopub.status.idle": "2023-06-08T14:19:32.883101Z",
     "shell.execute_reply": "2023-06-08T14:19:32.882146Z"
    },
    "papermill": {
     "duration": 0.039635,
     "end_time": "2023-06-08T14:19:32.885532",
     "exception": false,
     "start_time": "2023-06-08T14:19:32.845897",
     "status": "completed"
    },
    "tags": []
   },
   "outputs": [],
   "source": [
    "X_train, X_val, y_train, y_val = train_test_split(X,y, test_size=0.2, shuffle=True) "
   ]
  },
  {
   "cell_type": "code",
   "execution_count": 8,
   "id": "00eade8c",
   "metadata": {
    "execution": {
     "iopub.execute_input": "2023-06-08T14:19:32.906692Z",
     "iopub.status.busy": "2023-06-08T14:19:32.906081Z",
     "iopub.status.idle": "2023-06-08T14:19:32.933112Z",
     "shell.execute_reply": "2023-06-08T14:19:32.932210Z"
    },
    "papermill": {
     "duration": 0.040235,
     "end_time": "2023-06-08T14:19:32.935335",
     "exception": false,
     "start_time": "2023-06-08T14:19:32.895100",
     "status": "completed"
    },
    "tags": []
   },
   "outputs": [
    {
     "data": {
      "text/plain": [
       "array([[ 0.47867201,  1.45924867, -0.42755451, ...,  3.17852746,\n",
       "        -2.30708755, -1.18898792],\n",
       "       [ 0.87762334, -0.81795721, -0.27468121, ..., -0.37215596,\n",
       "        -0.04734734, -0.29896361],\n",
       "       [ 0.38443153,  0.2742307 , -0.07237834, ..., -0.77005154,\n",
       "         3.24724672,  4.41302233],\n",
       "       ...,\n",
       "       [ 0.30212819,  0.03787757, -0.32461064, ..., -0.45594243,\n",
       "         0.24824627, -0.02561422],\n",
       "       [-3.51555339, -1.14944539,  3.25174528, ...,  2.52730563,\n",
       "        -1.92086987, -1.18757808],\n",
       "       [ 0.83018897, -0.21082058, -0.4004316 , ..., -0.37060205,\n",
       "        -0.0660523 , -0.29980852]])"
      ]
     },
     "execution_count": 8,
     "metadata": {},
     "output_type": "execute_result"
    }
   ],
   "source": [
    "scaler = StandardScaler()\n",
    "X_train = scaler.fit_transform(X_train)\n",
    "X_val = scaler.fit_transform(X_val)\n",
    "X_train"
   ]
  },
  {
   "cell_type": "markdown",
   "id": "065dc4bf",
   "metadata": {
    "papermill": {
     "duration": 0.009329,
     "end_time": "2023-06-08T14:19:32.954146",
     "exception": false,
     "start_time": "2023-06-08T14:19:32.944817",
     "status": "completed"
    },
    "tags": []
   },
   "source": [
    "## Baseline Model"
   ]
  },
  {
   "cell_type": "code",
   "execution_count": 9,
   "id": "8d6f82b0",
   "metadata": {
    "execution": {
     "iopub.execute_input": "2023-06-08T14:19:32.974987Z",
     "iopub.status.busy": "2023-06-08T14:19:32.974412Z",
     "iopub.status.idle": "2023-06-08T14:19:34.030503Z",
     "shell.execute_reply": "2023-06-08T14:19:34.029511Z"
    },
    "papermill": {
     "duration": 1.069522,
     "end_time": "2023-06-08T14:19:34.033063",
     "exception": false,
     "start_time": "2023-06-08T14:19:32.963541",
     "status": "completed"
    },
    "tags": []
   },
   "outputs": [],
   "source": [
    "from lightgbm import LGBMClassifier\n",
    "from sklearn.model_selection import RandomizedSearchCV\n",
    "from sklearn.metrics import log_loss\n",
    "from scipy.stats import randint\n"
   ]
  },
  {
   "cell_type": "code",
   "execution_count": 10,
   "id": "4c1b247b",
   "metadata": {
    "execution": {
     "iopub.execute_input": "2023-06-08T14:19:34.054343Z",
     "iopub.status.busy": "2023-06-08T14:19:34.053767Z",
     "iopub.status.idle": "2023-06-08T14:19:35.052820Z",
     "shell.execute_reply": "2023-06-08T14:19:35.051794Z"
    },
    "papermill": {
     "duration": 1.012868,
     "end_time": "2023-06-08T14:19:35.055500",
     "exception": false,
     "start_time": "2023-06-08T14:19:34.042632",
     "status": "completed"
    },
    "tags": []
   },
   "outputs": [
    {
     "data": {
      "text/html": [
       "<style>#sk-container-id-1 {color: black;background-color: white;}#sk-container-id-1 pre{padding: 0;}#sk-container-id-1 div.sk-toggleable {background-color: white;}#sk-container-id-1 label.sk-toggleable__label {cursor: pointer;display: block;width: 100%;margin-bottom: 0;padding: 0.3em;box-sizing: border-box;text-align: center;}#sk-container-id-1 label.sk-toggleable__label-arrow:before {content: \"▸\";float: left;margin-right: 0.25em;color: #696969;}#sk-container-id-1 label.sk-toggleable__label-arrow:hover:before {color: black;}#sk-container-id-1 div.sk-estimator:hover label.sk-toggleable__label-arrow:before {color: black;}#sk-container-id-1 div.sk-toggleable__content {max-height: 0;max-width: 0;overflow: hidden;text-align: left;background-color: #f0f8ff;}#sk-container-id-1 div.sk-toggleable__content pre {margin: 0.2em;color: black;border-radius: 0.25em;background-color: #f0f8ff;}#sk-container-id-1 input.sk-toggleable__control:checked~div.sk-toggleable__content {max-height: 200px;max-width: 100%;overflow: auto;}#sk-container-id-1 input.sk-toggleable__control:checked~label.sk-toggleable__label-arrow:before {content: \"▾\";}#sk-container-id-1 div.sk-estimator input.sk-toggleable__control:checked~label.sk-toggleable__label {background-color: #d4ebff;}#sk-container-id-1 div.sk-label input.sk-toggleable__control:checked~label.sk-toggleable__label {background-color: #d4ebff;}#sk-container-id-1 input.sk-hidden--visually {border: 0;clip: rect(1px 1px 1px 1px);clip: rect(1px, 1px, 1px, 1px);height: 1px;margin: -1px;overflow: hidden;padding: 0;position: absolute;width: 1px;}#sk-container-id-1 div.sk-estimator {font-family: monospace;background-color: #f0f8ff;border: 1px dotted black;border-radius: 0.25em;box-sizing: border-box;margin-bottom: 0.5em;}#sk-container-id-1 div.sk-estimator:hover {background-color: #d4ebff;}#sk-container-id-1 div.sk-parallel-item::after {content: \"\";width: 100%;border-bottom: 1px solid gray;flex-grow: 1;}#sk-container-id-1 div.sk-label:hover label.sk-toggleable__label {background-color: #d4ebff;}#sk-container-id-1 div.sk-serial::before {content: \"\";position: absolute;border-left: 1px solid gray;box-sizing: border-box;top: 0;bottom: 0;left: 50%;z-index: 0;}#sk-container-id-1 div.sk-serial {display: flex;flex-direction: column;align-items: center;background-color: white;padding-right: 0.2em;padding-left: 0.2em;position: relative;}#sk-container-id-1 div.sk-item {position: relative;z-index: 1;}#sk-container-id-1 div.sk-parallel {display: flex;align-items: stretch;justify-content: center;background-color: white;position: relative;}#sk-container-id-1 div.sk-item::before, #sk-container-id-1 div.sk-parallel-item::before {content: \"\";position: absolute;border-left: 1px solid gray;box-sizing: border-box;top: 0;bottom: 0;left: 50%;z-index: -1;}#sk-container-id-1 div.sk-parallel-item {display: flex;flex-direction: column;z-index: 1;position: relative;background-color: white;}#sk-container-id-1 div.sk-parallel-item:first-child::after {align-self: flex-end;width: 50%;}#sk-container-id-1 div.sk-parallel-item:last-child::after {align-self: flex-start;width: 50%;}#sk-container-id-1 div.sk-parallel-item:only-child::after {width: 0;}#sk-container-id-1 div.sk-dashed-wrapped {border: 1px dashed gray;margin: 0 0.4em 0.5em 0.4em;box-sizing: border-box;padding-bottom: 0.4em;background-color: white;}#sk-container-id-1 div.sk-label label {font-family: monospace;font-weight: bold;display: inline-block;line-height: 1.2em;}#sk-container-id-1 div.sk-label-container {text-align: center;}#sk-container-id-1 div.sk-container {/* jupyter's `normalize.less` sets `[hidden] { display: none; }` but bootstrap.min.css set `[hidden] { display: none !important; }` so we also need the `!important` here to be able to override the default hidden behavior on the sphinx rendered scikit-learn.org. See: https://github.com/scikit-learn/scikit-learn/issues/21755 */display: inline-block !important;position: relative;}#sk-container-id-1 div.sk-text-repr-fallback {display: none;}</style><div id=\"sk-container-id-1\" class=\"sk-top-container\"><div class=\"sk-text-repr-fallback\"><pre>LGBMClassifier()</pre><b>In a Jupyter environment, please rerun this cell to show the HTML representation or trust the notebook. <br />On GitHub, the HTML representation is unable to render, please try loading this page with nbviewer.org.</b></div><div class=\"sk-container\" hidden><div class=\"sk-item\"><div class=\"sk-estimator sk-toggleable\"><input class=\"sk-toggleable__control sk-hidden--visually\" id=\"sk-estimator-id-1\" type=\"checkbox\" checked><label for=\"sk-estimator-id-1\" class=\"sk-toggleable__label sk-toggleable__label-arrow\">LGBMClassifier</label><div class=\"sk-toggleable__content\"><pre>LGBMClassifier()</pre></div></div></div></div></div>"
      ],
      "text/plain": [
       "LGBMClassifier()"
      ]
     },
     "execution_count": 10,
     "metadata": {},
     "output_type": "execute_result"
    }
   ],
   "source": [
    "model = LGBMClassifier()\n",
    "model.fit(X_train, y_train)\n"
   ]
  },
  {
   "cell_type": "code",
   "execution_count": 11,
   "id": "5fa249ea",
   "metadata": {
    "execution": {
     "iopub.execute_input": "2023-06-08T14:19:35.076559Z",
     "iopub.status.busy": "2023-06-08T14:19:35.076178Z",
     "iopub.status.idle": "2023-06-08T14:19:35.135231Z",
     "shell.execute_reply": "2023-06-08T14:19:35.133975Z"
    },
    "papermill": {
     "duration": 0.072338,
     "end_time": "2023-06-08T14:19:35.137722",
     "exception": false,
     "start_time": "2023-06-08T14:19:35.065384",
     "status": "completed"
    },
    "tags": []
   },
   "outputs": [
    {
     "data": {
      "text/plain": [
       "0.3617701781921343"
      ]
     },
     "execution_count": 11,
     "metadata": {},
     "output_type": "execute_result"
    }
   ],
   "source": [
    "y_pred = model.predict(X_val)\n",
    "logloss = log_loss(y_val, y_pred)\n",
    "logloss"
   ]
  },
  {
   "cell_type": "markdown",
   "id": "ebac5055",
   "metadata": {
    "papermill": {
     "duration": 0.009573,
     "end_time": "2023-06-08T14:19:35.157205",
     "exception": false,
     "start_time": "2023-06-08T14:19:35.147632",
     "status": "completed"
    },
    "tags": []
   },
   "source": [
    "## Using Random Search for Hyper Parameter tuning\n",
    "Even though the baseline model did really well, lets see how effective hyper parameter tuning would be for reducing the loss even more"
   ]
  },
  {
   "cell_type": "code",
   "execution_count": 12,
   "id": "36b76302",
   "metadata": {
    "execution": {
     "iopub.execute_input": "2023-06-08T14:19:35.178441Z",
     "iopub.status.busy": "2023-06-08T14:19:35.178076Z",
     "iopub.status.idle": "2023-06-08T14:19:35.185248Z",
     "shell.execute_reply": "2023-06-08T14:19:35.184281Z"
    },
    "papermill": {
     "duration": 0.020396,
     "end_time": "2023-06-08T14:19:35.187409",
     "exception": false,
     "start_time": "2023-06-08T14:19:35.167013",
     "status": "completed"
    },
    "tags": []
   },
   "outputs": [],
   "source": [
    "param_dist = {\n",
    "    'n_estimators': randint(100, 1000),\n",
    "    'max_depth': randint(1, 10),\n",
    "    'learning_rate': [0.01, 0.05, 0.1, 0.2, 0.3]\n",
    "}"
   ]
  },
  {
   "cell_type": "code",
   "execution_count": 13,
   "id": "e016dfab",
   "metadata": {
    "execution": {
     "iopub.execute_input": "2023-06-08T14:19:35.208683Z",
     "iopub.status.busy": "2023-06-08T14:19:35.208305Z",
     "iopub.status.idle": "2023-06-08T14:21:20.630757Z",
     "shell.execute_reply": "2023-06-08T14:21:20.629599Z"
    },
    "papermill": {
     "duration": 105.443484,
     "end_time": "2023-06-08T14:21:20.640589",
     "exception": false,
     "start_time": "2023-06-08T14:19:35.197105",
     "status": "completed"
    },
    "tags": []
   },
   "outputs": [
    {
     "data": {
      "text/html": [
       "<style>#sk-container-id-2 {color: black;background-color: white;}#sk-container-id-2 pre{padding: 0;}#sk-container-id-2 div.sk-toggleable {background-color: white;}#sk-container-id-2 label.sk-toggleable__label {cursor: pointer;display: block;width: 100%;margin-bottom: 0;padding: 0.3em;box-sizing: border-box;text-align: center;}#sk-container-id-2 label.sk-toggleable__label-arrow:before {content: \"▸\";float: left;margin-right: 0.25em;color: #696969;}#sk-container-id-2 label.sk-toggleable__label-arrow:hover:before {color: black;}#sk-container-id-2 div.sk-estimator:hover label.sk-toggleable__label-arrow:before {color: black;}#sk-container-id-2 div.sk-toggleable__content {max-height: 0;max-width: 0;overflow: hidden;text-align: left;background-color: #f0f8ff;}#sk-container-id-2 div.sk-toggleable__content pre {margin: 0.2em;color: black;border-radius: 0.25em;background-color: #f0f8ff;}#sk-container-id-2 input.sk-toggleable__control:checked~div.sk-toggleable__content {max-height: 200px;max-width: 100%;overflow: auto;}#sk-container-id-2 input.sk-toggleable__control:checked~label.sk-toggleable__label-arrow:before {content: \"▾\";}#sk-container-id-2 div.sk-estimator input.sk-toggleable__control:checked~label.sk-toggleable__label {background-color: #d4ebff;}#sk-container-id-2 div.sk-label input.sk-toggleable__control:checked~label.sk-toggleable__label {background-color: #d4ebff;}#sk-container-id-2 input.sk-hidden--visually {border: 0;clip: rect(1px 1px 1px 1px);clip: rect(1px, 1px, 1px, 1px);height: 1px;margin: -1px;overflow: hidden;padding: 0;position: absolute;width: 1px;}#sk-container-id-2 div.sk-estimator {font-family: monospace;background-color: #f0f8ff;border: 1px dotted black;border-radius: 0.25em;box-sizing: border-box;margin-bottom: 0.5em;}#sk-container-id-2 div.sk-estimator:hover {background-color: #d4ebff;}#sk-container-id-2 div.sk-parallel-item::after {content: \"\";width: 100%;border-bottom: 1px solid gray;flex-grow: 1;}#sk-container-id-2 div.sk-label:hover label.sk-toggleable__label {background-color: #d4ebff;}#sk-container-id-2 div.sk-serial::before {content: \"\";position: absolute;border-left: 1px solid gray;box-sizing: border-box;top: 0;bottom: 0;left: 50%;z-index: 0;}#sk-container-id-2 div.sk-serial {display: flex;flex-direction: column;align-items: center;background-color: white;padding-right: 0.2em;padding-left: 0.2em;position: relative;}#sk-container-id-2 div.sk-item {position: relative;z-index: 1;}#sk-container-id-2 div.sk-parallel {display: flex;align-items: stretch;justify-content: center;background-color: white;position: relative;}#sk-container-id-2 div.sk-item::before, #sk-container-id-2 div.sk-parallel-item::before {content: \"\";position: absolute;border-left: 1px solid gray;box-sizing: border-box;top: 0;bottom: 0;left: 50%;z-index: -1;}#sk-container-id-2 div.sk-parallel-item {display: flex;flex-direction: column;z-index: 1;position: relative;background-color: white;}#sk-container-id-2 div.sk-parallel-item:first-child::after {align-self: flex-end;width: 50%;}#sk-container-id-2 div.sk-parallel-item:last-child::after {align-self: flex-start;width: 50%;}#sk-container-id-2 div.sk-parallel-item:only-child::after {width: 0;}#sk-container-id-2 div.sk-dashed-wrapped {border: 1px dashed gray;margin: 0 0.4em 0.5em 0.4em;box-sizing: border-box;padding-bottom: 0.4em;background-color: white;}#sk-container-id-2 div.sk-label label {font-family: monospace;font-weight: bold;display: inline-block;line-height: 1.2em;}#sk-container-id-2 div.sk-label-container {text-align: center;}#sk-container-id-2 div.sk-container {/* jupyter's `normalize.less` sets `[hidden] { display: none; }` but bootstrap.min.css set `[hidden] { display: none !important; }` so we also need the `!important` here to be able to override the default hidden behavior on the sphinx rendered scikit-learn.org. See: https://github.com/scikit-learn/scikit-learn/issues/21755 */display: inline-block !important;position: relative;}#sk-container-id-2 div.sk-text-repr-fallback {display: none;}</style><div id=\"sk-container-id-2\" class=\"sk-top-container\"><div class=\"sk-text-repr-fallback\"><pre>RandomizedSearchCV(cv=5, estimator=LGBMClassifier(), n_jobs=-1,\n",
       "                   param_distributions={&#x27;learning_rate&#x27;: [0.01, 0.05, 0.1, 0.2,\n",
       "                                                          0.3],\n",
       "                                        &#x27;max_depth&#x27;: &lt;scipy.stats._distn_infrastructure.rv_discrete_frozen object at 0x7838b0ee8a30&gt;,\n",
       "                                        &#x27;n_estimators&#x27;: &lt;scipy.stats._distn_infrastructure.rv_discrete_frozen object at 0x7838b0ee8e50&gt;},\n",
       "                   scoring=&#x27;neg_log_loss&#x27;)</pre><b>In a Jupyter environment, please rerun this cell to show the HTML representation or trust the notebook. <br />On GitHub, the HTML representation is unable to render, please try loading this page with nbviewer.org.</b></div><div class=\"sk-container\" hidden><div class=\"sk-item sk-dashed-wrapped\"><div class=\"sk-label-container\"><div class=\"sk-label sk-toggleable\"><input class=\"sk-toggleable__control sk-hidden--visually\" id=\"sk-estimator-id-2\" type=\"checkbox\" ><label for=\"sk-estimator-id-2\" class=\"sk-toggleable__label sk-toggleable__label-arrow\">RandomizedSearchCV</label><div class=\"sk-toggleable__content\"><pre>RandomizedSearchCV(cv=5, estimator=LGBMClassifier(), n_jobs=-1,\n",
       "                   param_distributions={&#x27;learning_rate&#x27;: [0.01, 0.05, 0.1, 0.2,\n",
       "                                                          0.3],\n",
       "                                        &#x27;max_depth&#x27;: &lt;scipy.stats._distn_infrastructure.rv_discrete_frozen object at 0x7838b0ee8a30&gt;,\n",
       "                                        &#x27;n_estimators&#x27;: &lt;scipy.stats._distn_infrastructure.rv_discrete_frozen object at 0x7838b0ee8e50&gt;},\n",
       "                   scoring=&#x27;neg_log_loss&#x27;)</pre></div></div></div><div class=\"sk-parallel\"><div class=\"sk-parallel-item\"><div class=\"sk-item\"><div class=\"sk-label-container\"><div class=\"sk-label sk-toggleable\"><input class=\"sk-toggleable__control sk-hidden--visually\" id=\"sk-estimator-id-3\" type=\"checkbox\" ><label for=\"sk-estimator-id-3\" class=\"sk-toggleable__label sk-toggleable__label-arrow\">estimator: LGBMClassifier</label><div class=\"sk-toggleable__content\"><pre>LGBMClassifier()</pre></div></div></div><div class=\"sk-serial\"><div class=\"sk-item\"><div class=\"sk-estimator sk-toggleable\"><input class=\"sk-toggleable__control sk-hidden--visually\" id=\"sk-estimator-id-4\" type=\"checkbox\" ><label for=\"sk-estimator-id-4\" class=\"sk-toggleable__label sk-toggleable__label-arrow\">LGBMClassifier</label><div class=\"sk-toggleable__content\"><pre>LGBMClassifier()</pre></div></div></div></div></div></div></div></div></div></div>"
      ],
      "text/plain": [
       "RandomizedSearchCV(cv=5, estimator=LGBMClassifier(), n_jobs=-1,\n",
       "                   param_distributions={'learning_rate': [0.01, 0.05, 0.1, 0.2,\n",
       "                                                          0.3],\n",
       "                                        'max_depth': <scipy.stats._distn_infrastructure.rv_discrete_frozen object at 0x7838b0ee8a30>,\n",
       "                                        'n_estimators': <scipy.stats._distn_infrastructure.rv_discrete_frozen object at 0x7838b0ee8e50>},\n",
       "                   scoring='neg_log_loss')"
      ]
     },
     "execution_count": 13,
     "metadata": {},
     "output_type": "execute_result"
    }
   ],
   "source": [
    "lgbm = LGBMClassifier()\n",
    "random_search = RandomizedSearchCV(model, param_distributions=param_dist,\n",
    "                                   n_iter=10, scoring='neg_log_loss',\n",
    "                                   n_jobs=-1, cv=5)\n",
    "random_search.fit(X_train, y_train)\n"
   ]
  },
  {
   "cell_type": "code",
   "execution_count": 14,
   "id": "70ebdb2f",
   "metadata": {
    "execution": {
     "iopub.execute_input": "2023-06-08T14:21:20.662222Z",
     "iopub.status.busy": "2023-06-08T14:21:20.661866Z",
     "iopub.status.idle": "2023-06-08T14:21:20.667327Z",
     "shell.execute_reply": "2023-06-08T14:21:20.666079Z"
    },
    "papermill": {
     "duration": 0.019944,
     "end_time": "2023-06-08T14:21:20.670372",
     "exception": false,
     "start_time": "2023-06-08T14:21:20.650428",
     "status": "completed"
    },
    "tags": []
   },
   "outputs": [
    {
     "name": "stdout",
     "output_type": "stream",
     "text": [
      "{'learning_rate': 0.05, 'max_depth': 5, 'n_estimators': 225}\n"
     ]
    }
   ],
   "source": [
    "print(random_search.best_params_)\n"
   ]
  },
  {
   "cell_type": "code",
   "execution_count": 15,
   "id": "df26a65c",
   "metadata": {
    "execution": {
     "iopub.execute_input": "2023-06-08T14:21:20.692347Z",
     "iopub.status.busy": "2023-06-08T14:21:20.691991Z",
     "iopub.status.idle": "2023-06-08T14:21:26.400079Z",
     "shell.execute_reply": "2023-06-08T14:21:26.399000Z"
    },
    "papermill": {
     "duration": 5.722127,
     "end_time": "2023-06-08T14:21:26.402608",
     "exception": false,
     "start_time": "2023-06-08T14:21:20.680481",
     "status": "completed"
    },
    "tags": []
   },
   "outputs": [
    {
     "data": {
      "text/html": [
       "<style>#sk-container-id-3 {color: black;background-color: white;}#sk-container-id-3 pre{padding: 0;}#sk-container-id-3 div.sk-toggleable {background-color: white;}#sk-container-id-3 label.sk-toggleable__label {cursor: pointer;display: block;width: 100%;margin-bottom: 0;padding: 0.3em;box-sizing: border-box;text-align: center;}#sk-container-id-3 label.sk-toggleable__label-arrow:before {content: \"▸\";float: left;margin-right: 0.25em;color: #696969;}#sk-container-id-3 label.sk-toggleable__label-arrow:hover:before {color: black;}#sk-container-id-3 div.sk-estimator:hover label.sk-toggleable__label-arrow:before {color: black;}#sk-container-id-3 div.sk-toggleable__content {max-height: 0;max-width: 0;overflow: hidden;text-align: left;background-color: #f0f8ff;}#sk-container-id-3 div.sk-toggleable__content pre {margin: 0.2em;color: black;border-radius: 0.25em;background-color: #f0f8ff;}#sk-container-id-3 input.sk-toggleable__control:checked~div.sk-toggleable__content {max-height: 200px;max-width: 100%;overflow: auto;}#sk-container-id-3 input.sk-toggleable__control:checked~label.sk-toggleable__label-arrow:before {content: \"▾\";}#sk-container-id-3 div.sk-estimator input.sk-toggleable__control:checked~label.sk-toggleable__label {background-color: #d4ebff;}#sk-container-id-3 div.sk-label input.sk-toggleable__control:checked~label.sk-toggleable__label {background-color: #d4ebff;}#sk-container-id-3 input.sk-hidden--visually {border: 0;clip: rect(1px 1px 1px 1px);clip: rect(1px, 1px, 1px, 1px);height: 1px;margin: -1px;overflow: hidden;padding: 0;position: absolute;width: 1px;}#sk-container-id-3 div.sk-estimator {font-family: monospace;background-color: #f0f8ff;border: 1px dotted black;border-radius: 0.25em;box-sizing: border-box;margin-bottom: 0.5em;}#sk-container-id-3 div.sk-estimator:hover {background-color: #d4ebff;}#sk-container-id-3 div.sk-parallel-item::after {content: \"\";width: 100%;border-bottom: 1px solid gray;flex-grow: 1;}#sk-container-id-3 div.sk-label:hover label.sk-toggleable__label {background-color: #d4ebff;}#sk-container-id-3 div.sk-serial::before {content: \"\";position: absolute;border-left: 1px solid gray;box-sizing: border-box;top: 0;bottom: 0;left: 50%;z-index: 0;}#sk-container-id-3 div.sk-serial {display: flex;flex-direction: column;align-items: center;background-color: white;padding-right: 0.2em;padding-left: 0.2em;position: relative;}#sk-container-id-3 div.sk-item {position: relative;z-index: 1;}#sk-container-id-3 div.sk-parallel {display: flex;align-items: stretch;justify-content: center;background-color: white;position: relative;}#sk-container-id-3 div.sk-item::before, #sk-container-id-3 div.sk-parallel-item::before {content: \"\";position: absolute;border-left: 1px solid gray;box-sizing: border-box;top: 0;bottom: 0;left: 50%;z-index: -1;}#sk-container-id-3 div.sk-parallel-item {display: flex;flex-direction: column;z-index: 1;position: relative;background-color: white;}#sk-container-id-3 div.sk-parallel-item:first-child::after {align-self: flex-end;width: 50%;}#sk-container-id-3 div.sk-parallel-item:last-child::after {align-self: flex-start;width: 50%;}#sk-container-id-3 div.sk-parallel-item:only-child::after {width: 0;}#sk-container-id-3 div.sk-dashed-wrapped {border: 1px dashed gray;margin: 0 0.4em 0.5em 0.4em;box-sizing: border-box;padding-bottom: 0.4em;background-color: white;}#sk-container-id-3 div.sk-label label {font-family: monospace;font-weight: bold;display: inline-block;line-height: 1.2em;}#sk-container-id-3 div.sk-label-container {text-align: center;}#sk-container-id-3 div.sk-container {/* jupyter's `normalize.less` sets `[hidden] { display: none; }` but bootstrap.min.css set `[hidden] { display: none !important; }` so we also need the `!important` here to be able to override the default hidden behavior on the sphinx rendered scikit-learn.org. See: https://github.com/scikit-learn/scikit-learn/issues/21755 */display: inline-block !important;position: relative;}#sk-container-id-3 div.sk-text-repr-fallback {display: none;}</style><div id=\"sk-container-id-3\" class=\"sk-top-container\"><div class=\"sk-text-repr-fallback\"><pre>LGBMClassifier(learning_rate=0.01, max_depth=7, n_estimators=581)</pre><b>In a Jupyter environment, please rerun this cell to show the HTML representation or trust the notebook. <br />On GitHub, the HTML representation is unable to render, please try loading this page with nbviewer.org.</b></div><div class=\"sk-container\" hidden><div class=\"sk-item\"><div class=\"sk-estimator sk-toggleable\"><input class=\"sk-toggleable__control sk-hidden--visually\" id=\"sk-estimator-id-5\" type=\"checkbox\" checked><label for=\"sk-estimator-id-5\" class=\"sk-toggleable__label sk-toggleable__label-arrow\">LGBMClassifier</label><div class=\"sk-toggleable__content\"><pre>LGBMClassifier(learning_rate=0.01, max_depth=7, n_estimators=581)</pre></div></div></div></div></div>"
      ],
      "text/plain": [
       "LGBMClassifier(learning_rate=0.01, max_depth=7, n_estimators=581)"
      ]
     },
     "execution_count": 15,
     "metadata": {},
     "output_type": "execute_result"
    }
   ],
   "source": [
    "best_model = LGBMClassifier(learning_rate= 0.01, max_depth= 7, n_estimators= 581)\n",
    "best_model.fit(X_train, y_train)"
   ]
  },
  {
   "cell_type": "code",
   "execution_count": 16,
   "id": "9b9bdc35",
   "metadata": {
    "execution": {
     "iopub.execute_input": "2023-06-08T14:21:26.426981Z",
     "iopub.status.busy": "2023-06-08T14:21:26.426562Z",
     "iopub.status.idle": "2023-06-08T14:21:26.644424Z",
     "shell.execute_reply": "2023-06-08T14:21:26.643578Z"
    },
    "papermill": {
     "duration": 0.232746,
     "end_time": "2023-06-08T14:21:26.646610",
     "exception": false,
     "start_time": "2023-06-08T14:21:26.413864",
     "status": "completed"
    },
    "tags": []
   },
   "outputs": [
    {
     "data": {
      "text/plain": [
       "0.3387763109341596"
      ]
     },
     "execution_count": 16,
     "metadata": {},
     "output_type": "execute_result"
    }
   ],
   "source": [
    "\n",
    "new_y_pred = best_model.predict(X_val)\n",
    "new_logloss = log_loss(y_val, new_y_pred)\n",
    "new_logloss"
   ]
  },
  {
   "cell_type": "markdown",
   "id": "75c6f824",
   "metadata": {
    "papermill": {
     "duration": 0.010747,
     "end_time": "2023-06-08T14:21:26.667961",
     "exception": false,
     "start_time": "2023-06-08T14:21:26.657214",
     "status": "completed"
    },
    "tags": []
   },
   "source": [
    "## Submission"
   ]
  },
  {
   "cell_type": "code",
   "execution_count": 17,
   "id": "9c2372b4",
   "metadata": {
    "execution": {
     "iopub.execute_input": "2023-06-08T14:21:26.691377Z",
     "iopub.status.busy": "2023-06-08T14:21:26.690726Z",
     "iopub.status.idle": "2023-06-08T14:21:26.708430Z",
     "shell.execute_reply": "2023-06-08T14:21:26.707503Z"
    },
    "papermill": {
     "duration": 0.032327,
     "end_time": "2023-06-08T14:21:26.710918",
     "exception": false,
     "start_time": "2023-06-08T14:21:26.678591",
     "status": "completed"
    },
    "tags": []
   },
   "outputs": [],
   "source": [
    "test_scaler = StandardScaler()\n",
    "scaled_test = test_df.drop('id', axis =1)\n",
    "scaled_test = test_scaler.fit_transform(scaled_test)\n"
   ]
  },
  {
   "cell_type": "code",
   "execution_count": 18,
   "id": "df88a69d",
   "metadata": {
    "execution": {
     "iopub.execute_input": "2023-06-08T14:21:26.734353Z",
     "iopub.status.busy": "2023-06-08T14:21:26.733701Z",
     "iopub.status.idle": "2023-06-08T14:21:27.595589Z",
     "shell.execute_reply": "2023-06-08T14:21:27.594754Z"
    },
    "papermill": {
     "duration": 0.876499,
     "end_time": "2023-06-08T14:21:27.598150",
     "exception": false,
     "start_time": "2023-06-08T14:21:26.721651",
     "status": "completed"
    },
    "tags": []
   },
   "outputs": [],
   "source": [
    "\n",
    "prediction=best_model.predict(scaled_test)\n",
    "submission=pd.DataFrame({'id':test_df.id,'Class':prediction})\n",
    "submission.to_csv('submission.csv',index=False)"
   ]
  },
  {
   "cell_type": "code",
   "execution_count": 19,
   "id": "b7a70a07",
   "metadata": {
    "execution": {
     "iopub.execute_input": "2023-06-08T14:21:27.621690Z",
     "iopub.status.busy": "2023-06-08T14:21:27.621025Z",
     "iopub.status.idle": "2023-06-08T14:21:27.631680Z",
     "shell.execute_reply": "2023-06-08T14:21:27.630640Z"
    },
    "papermill": {
     "duration": 0.025121,
     "end_time": "2023-06-08T14:21:27.634066",
     "exception": false,
     "start_time": "2023-06-08T14:21:27.608945",
     "status": "completed"
    },
    "tags": []
   },
   "outputs": [
    {
     "data": {
      "text/html": [
       "<div>\n",
       "<style scoped>\n",
       "    .dataframe tbody tr th:only-of-type {\n",
       "        vertical-align: middle;\n",
       "    }\n",
       "\n",
       "    .dataframe tbody tr th {\n",
       "        vertical-align: top;\n",
       "    }\n",
       "\n",
       "    .dataframe thead th {\n",
       "        text-align: right;\n",
       "    }\n",
       "</style>\n",
       "<table border=\"1\" class=\"dataframe\">\n",
       "  <thead>\n",
       "    <tr style=\"text-align: right;\">\n",
       "      <th></th>\n",
       "      <th>id</th>\n",
       "      <th>Class</th>\n",
       "    </tr>\n",
       "  </thead>\n",
       "  <tbody>\n",
       "    <tr>\n",
       "      <th>0</th>\n",
       "      <td>117564</td>\n",
       "      <td>0</td>\n",
       "    </tr>\n",
       "    <tr>\n",
       "      <th>1</th>\n",
       "      <td>117565</td>\n",
       "      <td>0</td>\n",
       "    </tr>\n",
       "    <tr>\n",
       "      <th>2</th>\n",
       "      <td>117566</td>\n",
       "      <td>0</td>\n",
       "    </tr>\n",
       "    <tr>\n",
       "      <th>3</th>\n",
       "      <td>117567</td>\n",
       "      <td>0</td>\n",
       "    </tr>\n",
       "    <tr>\n",
       "      <th>4</th>\n",
       "      <td>117568</td>\n",
       "      <td>0</td>\n",
       "    </tr>\n",
       "    <tr>\n",
       "      <th>...</th>\n",
       "      <td>...</td>\n",
       "      <td>...</td>\n",
       "    </tr>\n",
       "    <tr>\n",
       "      <th>78372</th>\n",
       "      <td>195936</td>\n",
       "      <td>0</td>\n",
       "    </tr>\n",
       "    <tr>\n",
       "      <th>78373</th>\n",
       "      <td>195937</td>\n",
       "      <td>0</td>\n",
       "    </tr>\n",
       "    <tr>\n",
       "      <th>78374</th>\n",
       "      <td>195938</td>\n",
       "      <td>0</td>\n",
       "    </tr>\n",
       "    <tr>\n",
       "      <th>78375</th>\n",
       "      <td>195939</td>\n",
       "      <td>0</td>\n",
       "    </tr>\n",
       "    <tr>\n",
       "      <th>78376</th>\n",
       "      <td>195940</td>\n",
       "      <td>1</td>\n",
       "    </tr>\n",
       "  </tbody>\n",
       "</table>\n",
       "<p>78377 rows × 2 columns</p>\n",
       "</div>"
      ],
      "text/plain": [
       "           id  Class\n",
       "0      117564      0\n",
       "1      117565      0\n",
       "2      117566      0\n",
       "3      117567      0\n",
       "4      117568      0\n",
       "...       ...    ...\n",
       "78372  195936      0\n",
       "78373  195937      0\n",
       "78374  195938      0\n",
       "78375  195939      0\n",
       "78376  195940      1\n",
       "\n",
       "[78377 rows x 2 columns]"
      ]
     },
     "execution_count": 19,
     "metadata": {},
     "output_type": "execute_result"
    }
   ],
   "source": [
    "submission"
   ]
  },
  {
   "cell_type": "code",
   "execution_count": null,
   "id": "f6c74ac5",
   "metadata": {
    "papermill": {
     "duration": 0.010499,
     "end_time": "2023-06-08T14:21:27.655493",
     "exception": false,
     "start_time": "2023-06-08T14:21:27.644994",
     "status": "completed"
    },
    "tags": []
   },
   "outputs": [],
   "source": []
  }
 ],
 "metadata": {
  "kernelspec": {
   "display_name": "Python 3",
   "language": "python",
   "name": "python3"
  },
  "language_info": {
   "codemirror_mode": {
    "name": "ipython",
    "version": 3
   },
   "file_extension": ".py",
   "mimetype": "text/x-python",
   "name": "python",
   "nbconvert_exporter": "python",
   "pygments_lexer": "ipython3",
   "version": "3.10.10"
  },
  "papermill": {
   "default_parameters": {},
   "duration": 130.215757,
   "end_time": "2023-06-08T14:21:28.689839",
   "environment_variables": {},
   "exception": null,
   "input_path": "__notebook__.ipynb",
   "output_path": "__notebook__.ipynb",
   "parameters": {},
   "start_time": "2023-06-08T14:19:18.474082",
   "version": "2.4.0"
  }
 },
 "nbformat": 4,
 "nbformat_minor": 5
}
